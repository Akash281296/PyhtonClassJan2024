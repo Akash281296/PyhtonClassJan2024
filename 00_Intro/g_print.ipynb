{
 "cells": [
  {
   "cell_type": "code",
   "execution_count": 1,
   "metadata": {},
   "outputs": [
    {
     "name": "stdout",
     "output_type": "stream",
     "text": [
      "Hello world\n"
     ]
    }
   ],
   "source": [
    "print(\"Hello world\")"
   ]
  },
  {
   "cell_type": "code",
   "execution_count": 2,
   "metadata": {},
   "outputs": [
    {
     "data": {
      "text/plain": [
       "'\\nPurpose: print() function syntax and usage\\n'"
      ]
     },
     "execution_count": 2,
     "metadata": {},
     "output_type": "execute_result"
    }
   ],
   "source": [
    "\"\"\"\n",
    "Purpose: print() function syntax and usage\n",
    "\"\"\""
   ]
  },
  {
   "cell_type": "code",
   "execution_count": 3,
   "metadata": {},
   "outputs": [],
   "source": [
    "name = \"Almighty\"  # str"
   ]
  },
  {
   "cell_type": "code",
   "execution_count": 4,
   "metadata": {},
   "outputs": [
    {
     "data": {
      "text/plain": [
       "'Almighty'"
      ]
     },
     "execution_count": 4,
     "metadata": {},
     "output_type": "execute_result"
    }
   ],
   "source": [
    "name"
   ]
  },
  {
   "cell_type": "code",
   "execution_count": 5,
   "metadata": {},
   "outputs": [
    {
     "name": "stdout",
     "output_type": "stream",
     "text": [
      "Almighty\n"
     ]
    }
   ],
   "source": [
    "print(name)"
   ]
  },
  {
   "cell_type": "code",
   "execution_count": 6,
   "metadata": {},
   "outputs": [
    {
     "name": "stdout",
     "output_type": "stream",
     "text": [
      "name Almighty\n",
      "name: Almighty\n",
      "name= Almighty\n"
     ]
    }
   ],
   "source": [
    "print(\"name\", name)\n",
    "print(\"name:\", name)\n",
    "print(\"name=\", name)"
   ]
  },
  {
   "cell_type": "code",
   "execution_count": 7,
   "metadata": {},
   "outputs": [
    {
     "name": "stdout",
     "output_type": "stream",
     "text": [
      "Name of student is name\n",
      "Name of student is  Almighty\n"
     ]
    }
   ],
   "source": [
    "print(\"Name of student is name\")\n",
    "print(\"Name of student is \", name)"
   ]
  },
  {
   "cell_type": "code",
   "execution_count": 8,
   "metadata": {},
   "outputs": [
    {
     "name": "stdout",
     "output_type": "stream",
     "text": [
      "Name of student is Almighty\n",
      "Name of student is Almighty\n",
      "Name of student is-Almighty\n",
      "Name of student isAlmighty\n"
     ]
    }
   ],
   "source": [
    "print(\"Name of student is\", name)\n",
    "print(\"Name of student is\", name, sep=\" \")\n",
    "print(\"Name of student is\", name, sep=\"-\")\n",
    "print(\"Name of student is\", name, sep=\"\")"
   ]
  },
  {
   "cell_type": "code",
   "execution_count": 9,
   "metadata": {},
   "outputs": [
    {
     "name": "stdout",
     "output_type": "stream",
     "text": [
      "1~2~3~4~5~6\n",
      "1_2_3_4_5_6\n",
      "1:2:3:4:5:6\n"
     ]
    }
   ],
   "source": [
    "print(1, 2, 3, 4, 5, 6, sep=\"~\")\n",
    "print(1, 2, 3, 4, 5, 6, sep=\"_\")\n",
    "print(1, 2, 3, 4, 5, 6, sep=\":\")"
   ]
  },
  {
   "cell_type": "code",
   "execution_count": 10,
   "metadata": {},
   "outputs": [
    {
     "name": "stdout",
     "output_type": "stream",
     "text": [
      "1 + 2        = 3\n",
      "'1' + '2'    = 12\n"
     ]
    }
   ],
   "source": [
    "# NOTE: Python is a strictly typed language\n",
    "print(\"1 + 2        =\", 1 + 2)      # addition\n",
    "print(\"'1' + '2'    =\", \"1\" + \"2\")  # string concatenation"
   ]
  },
  {
   "cell_type": "code",
   "execution_count": 11,
   "metadata": {},
   "outputs": [
    {
     "name": "stdout",
     "output_type": "stream",
     "text": [
      "1 + int('2') = 3\n",
      "str(1) + '2' = 12\n"
     ]
    }
   ],
   "source": [
    "# 1 + '2' # TypeError: unsupported operand type(s) for +: 'int' and 'str'\n",
    "# type converters - str(), int(), float()\n",
    "print(\"1 + int('2') =\", 1 + int(\"2\"))\n",
    "print(\"str(1) + '2' =\", str(1) + \"2\")"
   ]
  },
  {
   "cell_type": "code",
   "execution_count": 12,
   "metadata": {},
   "outputs": [
    {
     "name": "stdout",
     "output_type": "stream",
     "text": [
      "Name of Student isAlmighty\n",
      "Name of Student is Almighty\n"
     ]
    }
   ],
   "source": [
    "print(\"Name of Student is\" + str(name))\n",
    "print(\"Name of Student is\" + \" \" + str(name))"
   ]
  },
  {
   "cell_type": "code",
   "execution_count": 13,
   "metadata": {},
   "outputs": [
    {
     "name": "stdout",
     "output_type": "stream",
     "text": [
      "int('234')   = 234\n"
     ]
    }
   ],
   "source": [
    "print(\"int('234')   =\", int(\"234\"))"
   ]
  },
  {
   "cell_type": "code",
   "execution_count": 14,
   "metadata": {},
   "outputs": [
    {
     "ename": "ValueError",
     "evalue": "invalid literal for int() with base 10: '23.4'",
     "output_type": "error",
     "traceback": [
      "\u001b[0;31m---------------------------------------------------------------------------\u001b[0m",
      "\u001b[0;31mValueError\u001b[0m                                Traceback (most recent call last)",
      "Cell \u001b[0;32mIn[14], line 1\u001b[0m\n\u001b[0;32m----> 1\u001b[0m \u001b[38;5;28mprint\u001b[39m(\u001b[38;5;124m\"\u001b[39m\u001b[38;5;124mint(\u001b[39m\u001b[38;5;124m'\u001b[39m\u001b[38;5;124m23.4\u001b[39m\u001b[38;5;124m'\u001b[39m\u001b[38;5;124m)  =\u001b[39m\u001b[38;5;124m\"\u001b[39m, \u001b[38;5;28;43mint\u001b[39;49m\u001b[43m(\u001b[49m\u001b[38;5;124;43m'\u001b[39;49m\u001b[38;5;124;43m23.4\u001b[39;49m\u001b[38;5;124;43m'\u001b[39;49m\u001b[43m)\u001b[49m)\n",
      "\u001b[0;31mValueError\u001b[0m: invalid literal for int() with base 10: '23.4'"
     ]
    }
   ],
   "source": [
    "print(\"int('23.4')  =\", int('23.4'))"
   ]
  },
  {
   "cell_type": "code",
   "execution_count": 15,
   "metadata": {},
   "outputs": [],
   "source": [
    "# print(\"int('23.4')  =\", int('23.4')) # ValueError: invalid literal for int() with base 10: '23.4'\n",
    "# print(\"int('two')  =\", int('two')) # ValueError: invalid literal for int() with base 10: 'two'"
   ]
  },
  {
   "cell_type": "code",
   "execution_count": 16,
   "metadata": {},
   "outputs": [
    {
     "name": "stdout",
     "output_type": "stream",
     "text": [
      "Name of Student isAlmighty\n",
      "Name of Student is Almighty\n"
     ]
    }
   ],
   "source": [
    "print(\"Name of Student is\" + str(name))\n",
    "print(\"Name of Student is\" + \" \" + str(name))"
   ]
  },
  {
   "cell_type": "code",
   "execution_count": 17,
   "metadata": {},
   "outputs": [
    {
     "name": "stdout",
     "output_type": "stream",
     "text": [
      "Name of Student is 1232\n"
     ]
    }
   ],
   "source": [
    "# NOTE: Python is dynamic typed language\n",
    "name = 1232\n",
    "print(\"Name of Student is\", name)"
   ]
  },
  {
   "cell_type": "code",
   "execution_count": 18,
   "metadata": {},
   "outputs": [
    {
     "name": "stdout",
     "output_type": "stream",
     "text": [
      "Name of Student is1232\n",
      "Name of Student is 1232\n"
     ]
    }
   ],
   "source": [
    "print(\"Name of Student is\" + str(name))\n",
    "print(\"Name of Student is\" + \" \" + str(name))"
   ]
  },
  {
   "cell_type": "code",
   "execution_count": 19,
   "metadata": {},
   "outputs": [
    {
     "name": "stdout",
     "output_type": "stream",
     "text": [
      "Hei\n",
      "Hi\n",
      "H\n"
     ]
    }
   ],
   "source": [
    "# \\b - overwrites previous character\n",
    "print(\"Hei\")\n",
    "print(\"He\\bi\")\n",
    "print(\"He\\b\")"
   ]
  },
  {
   "cell_type": "code",
   "execution_count": 20,
   "metadata": {},
   "outputs": [
    {
     "name": "stdout",
     "output_type": "stream",
     "text": [
      "ie\n",
      "34\n",
      "second\n",
      "1234ef\n",
      "DOG4567\n"
     ]
    }
   ],
   "source": [
    "# \\r - overwrites complete existing line\n",
    "print(\"He\\ri\")\n",
    "print(\"12\\r34\")\n",
    "print(\"first\\rsecond\")\n",
    "print(\"abcdef\\r1234\")\n",
    "print(\"1234567\\rDOG\")"
   ]
  },
  {
   "cell_type": "code",
   "execution_count": 21,
   "metadata": {},
   "outputs": [
    {
     "name": "stdout",
     "output_type": "stream",
     "text": [
      "₹\n",
      "Ǝ\n",
      "&\n"
     ]
    }
   ],
   "source": [
    "# Unicode characters \\uXXX - unicode character\n",
    "print(\"\\u20B9\")  # ₹\n",
    "print(\"\\u018e\")  # Ǝ\n",
    "\n",
    "print(\"\\046\")  # &"
   ]
  },
  {
   "cell_type": "code",
   "execution_count": null,
   "metadata": {},
   "outputs": [],
   "source": []
  }
 ],
 "metadata": {
  "kernelspec": {
   "display_name": "Python 3",
   "language": "python",
   "name": "python3"
  },
  "language_info": {
   "codemirror_mode": {
    "name": "ipython",
    "version": 3
   },
   "file_extension": ".py",
   "mimetype": "text/x-python",
   "name": "python",
   "nbconvert_exporter": "python",
   "pygments_lexer": "ipython3",
   "version": "3.10.13"
  }
 },
 "nbformat": 4,
 "nbformat_minor": 2
}
